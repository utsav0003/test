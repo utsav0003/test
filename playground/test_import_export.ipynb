{
 "cells": [
  {
   "cell_type": "code",
   "execution_count": 1,
   "metadata": {},
   "outputs": [],
   "source": [
    "import sys\n",
    "import os\n",
    "\n",
    "openagent_dir = os.path.dirname(os.path.abspath(\"\"))\n",
    "sys.path.append(openagent_dir)"
   ]
  },
  {
   "cell_type": "code",
   "execution_count": 2,
   "metadata": {},
   "outputs": [
    {
     "name": "stderr",
     "output_type": "stream",
     "text": [
      "c:\\Users\\DELL\\anaconda3\\envs\\openagent\\Lib\\site-packages\\deeplake\\util\\check_latest_version.py:32: UserWarning: A newer version of deeplake (3.6.22) is available. It's recommended that you update to the latest version using `pip install -U deeplake`.\n",
      "  warnings.warn(\n"
     ]
    }
   ],
   "source": [
    "from openagent.agent.completion import TextCompletionAgent\n",
    "from openagent.agent.chat import ChatAgent\n",
    "\n",
    "from openagent.llms._openai import OpenAI\n",
    "from openagent.vectorstores.chroma import Chroma\n",
    "from openagent.text_splitter import CharacterTextSplitter\n",
    "from openagent.knowledgebase.document_loaders.file.base import SimpleDirectoryReader\n",
    "from openagent.knowledgebase.doc_loader import document_loader\n",
    "\n",
    "from openagent.knowledgebase.base import SimpleKnowledgeBase\n",
    "from openagent.vectorstores.embeddings.openai import OpenAIEmbeddings\n",
    "\n",
    "# load .env file in format :\n",
    "# OPENAI_API_KEY=sk-xxx\n",
    "from dotenv import load_dotenv\n",
    "load_dotenv()\n",
    "\n",
    "llmcc = OpenAI(\n",
    "    model=\"gpt-3.5-turbo\"\n",
    ")\n",
    "llmtc = OpenAI(\n",
    "    model=\"text-davinci-003\"\n",
    ")\n",
    "\n",
    "SimpleDirectoryReader = document_loader('file_directory')\n",
    "\n",
    "reader = SimpleDirectoryReader('test_data/meteoric')\n",
    "raw_docs = reader.load_data()\n",
    "\n",
    "splitter = CharacterTextSplitter(chunk_overlap=40, chunk_size=1024)\n",
    "\n",
    "openai_embeddings = OpenAIEmbeddings()\n",
    "chroma = Chroma(embedding_function=openai_embeddings)\n",
    "\n",
    "knowledge = SimpleKnowledgeBase(raw_data=raw_docs, data_transformer=splitter, vector_store=chroma)"
   ]
  },
  {
   "cell_type": "code",
   "execution_count": 3,
   "metadata": {},
   "outputs": [],
   "source": [
    "# raw_docs"
   ]
  },
  {
   "cell_type": "code",
   "execution_count": 4,
   "metadata": {},
   "outputs": [
    {
     "name": "stderr",
     "output_type": "stream",
     "text": [
      "2023-08-31 19:21:23,249 - 18148 - text_splitter.py-text_splitter:138 - WARNING: Created a chunk of size 1203, which is longer than the specified 1024\n",
      "2023-08-31 19:21:23,250 - 18148 - text_splitter.py-text_splitter:138 - WARNING: Created a chunk of size 1025, which is longer than the specified 1024\n"
     ]
    }
   ],
   "source": [
    "reader = SimpleDirectoryReader('test_data/paul_graham')\n",
    "raw_docs = reader.load_data()\n",
    "\n",
    "knowledge.add_data(raw_docs)"
   ]
  },
  {
   "cell_type": "code",
   "execution_count": 5,
   "metadata": {},
   "outputs": [
    {
     "data": {
      "text/plain": [
       "[{'source': 'test_data\\\\meteoric', 'loader_key': 'file_directory'},\n",
       " {'source': 'test_data\\\\paul_graham', 'loader_key': 'file_directory'}]"
      ]
     },
     "execution_count": 5,
     "metadata": {},
     "output_type": "execute_result"
    }
   ],
   "source": [
    "knowledge.references"
   ]
  },
  {
   "cell_type": "code",
   "execution_count": 6,
   "metadata": {},
   "outputs": [
    {
     "name": "stdout",
     "output_type": "stream",
     "text": [
      "\n",
      "City: \"New Delhi\"\n",
      "Average temperature (C): \"25.5\"\"\n",
      "Population: \"2 crore\"\n",
      "Famous for (in 10 words):  \"Historical monuments, culture, food\"\n"
     ]
    }
   ],
   "source": [
    "# formatted output with text completion model without knowledge base\n",
    "\n",
    "text_template = '''\n",
    "City: \"{{city}}\"\n",
    "Average temperature (C): \"{{gen 'avg_temp'}}\"\n",
    "Population: \"{{population}}\"\n",
    "Famous for (in 10 words): {{gen \"famous_for\" temperature=0.7 max_tokens=30}}'''\n",
    "\n",
    "agent = TextCompletionAgent(\n",
    "    llm=llmtc,\n",
    "    prompt_template = text_template,\n",
    "    knowledgebase = knowledge,\n",
    "    return_complete=True,\n",
    "    input_variables={'extras': ['city', 'population'], 'knowledge_variable': 'city'}\n",
    "    )\n",
    "\n",
    "out = agent.run(city = 'New Delhi', population = \"2 crore\")\n",
    "\n",
    "print(out)"
   ]
  },
  {
   "cell_type": "code",
   "execution_count": 7,
   "metadata": {},
   "outputs": [],
   "source": [
    "agent.export_agent_config('exported_config.agent', export_json = True)"
   ]
  },
  {
   "cell_type": "code",
   "execution_count": 8,
   "metadata": {},
   "outputs": [
    {
     "name": "stderr",
     "output_type": "stream",
     "text": [
      "2023-08-31 19:21:28,362 - 18148 - text_splitter.py-text_splitter:138 - WARNING: Created a chunk of size 1203, which is longer than the specified 1024\n",
      "2023-08-31 19:21:28,364 - 18148 - text_splitter.py-text_splitter:138 - WARNING: Created a chunk of size 1025, which is longer than the specified 1024\n"
     ]
    }
   ],
   "source": [
    "new_agent = TextCompletionAgent.load_from_config('exported_config.agent')\n",
    "\n",
    "new_out = new_agent.run(city = 'New Delhi', population = \"2 crore\")"
   ]
  },
  {
   "cell_type": "code",
   "execution_count": 9,
   "metadata": {},
   "outputs": [
    {
     "data": {
      "text/plain": [
       "'\\n\"Monuments, culture, history, food, shopping, politics, education, festivals, art, diversity\"'"
      ]
     },
     "execution_count": 9,
     "metadata": {},
     "output_type": "execute_result"
    }
   ],
   "source": [
    "new_out"
   ]
  },
  {
   "cell_type": "code",
   "execution_count": null,
   "metadata": {},
   "outputs": [],
   "source": []
  }
 ],
 "metadata": {
  "kernelspec": {
   "display_name": "openagent",
   "language": "python",
   "name": "python3"
  },
  "language_info": {
   "codemirror_mode": {
    "name": "ipython",
    "version": 3
   },
   "file_extension": ".py",
   "mimetype": "text/x-python",
   "name": "python",
   "nbconvert_exporter": "python",
   "pygments_lexer": "ipython3",
   "version": "3.11.3"
  },
  "orig_nbformat": 4
 },
 "nbformat": 4,
 "nbformat_minor": 2
}
