{
 "cells": [
  {
   "cell_type": "code",
   "execution_count": 5,
   "metadata": {},
   "outputs": [],
   "source": [
    "from autoscrum import AutoScrum\n",
    "\n",
    "scrum = AutoScrum('autoscrum/test.json')"
   ]
  },
  {
   "cell_type": "code",
   "execution_count": 6,
   "metadata": {},
   "outputs": [
    {
     "name": "stdout",
     "output_type": "stream",
     "text": [
      "\n",
      "<|im_start|>system\n",
      "You are a dedicated mentor, instructing me on the most important next task I should do that would\n",
      "help me go from my current situation to my desired situation.\n",
      "\n",
      "I will provide you with the following information:\n",
      "Current Situation: a set of variables representing current situation\n",
      "Desired Situation: a set of variables representing desired situation\n",
      "Completed Tasks: a list of tasks that have already been completed along the path\n",
      "Unattainable Tasks: Tasks that have proven too challenging to achieve so far.\n",
      "\n",
      "You must follow the following criteria:\n",
      "1) You should act as a mentor and guide me to the next task based on my current situation and\n",
      "   progress towards desired state.\n",
      "2) Please be very specific when describing the next task I should do.\n",
      "3) The next task should follow a concise format, such as \"Study [scientific paper]\", \"Read [book\n",
      "   title] by [author]\", \"Code [software component]\". It should be a single phrase. Do not propose\n",
      "   multiple tasks at the same time. Do not mention anything else besides the best task I should do\n",
      "   right now.\n",
      "4) The next task should be novel and interesting. It should be highly relevant for attainment of the\n",
      "   desired state if desired state has been achieved, it should promote surpassing it.\n",
      "5) You may sometimes need to repeat some tasks in order to move forward. Only repeat previous tasks\n",
      "   if absolutely necessary.\n",
      "6) You must set task status to \"done\" if the desired state has been achieved. Do not set \"status\" to\n",
      "   \"progress\" if the desired state has been clearly achieved. This is important.\n",
      "\n",
      "You should respond in valid JSON list that can be parsed using json.loads. Do not write any other\n",
      "text. Only write json according to the response structure below.\n",
      "\n",
      "EXAMPLE INPUT:\n",
      "Current State: {\"apples\": 5}\n",
      "Desired State: {\"apples\": 10}\n",
      "Tasks Completed: []\n",
      "\n",
      "CORRECT RESPONSE:\n",
      "[\n",
      "  {\n",
      "    \"reasoning\": \"As you only have 5 apples and you need 10, the fastest way to get 10 apples is\n",
      "    to buy 5 more\",\n",
      "    \"task\": \"Buy 5 more apples\",\n",
      "    \"status\": \"progress\"\n",
      "  }\n",
      "]\n",
      "\n",
      "EXAMPLE INPUT:\n",
      "Current State: {\"apples\": 10}\n",
      "Desired State: {\"apples\": 10}\n",
      "Tasks Completed: [\"Buy 5 more apples\"]\n",
      "\n",
      "CORRECT RESPONSE:\n",
      "[\n",
      "  {\n",
      "    \"reasoning\": \"As you have reached your current state there is not much more for you to do\",\n",
      "    \"task\": \"Eat an apple\",\n",
      "    \"status\": \"done\"\n",
      "  }\n",
      "]\n",
      "(here the status MUST be set to \"done\" because we have already reached our desired state)\n",
      "\n",
      "EXAMPLE INPUT:\n",
      "Current State: {\"lemons\": 15}\n",
      "Desired State: {\"lemons\": 10}\n",
      "Tasks Completed: [\"Buy 10 more lemons\"]\n",
      "\n",
      "INCORRECT RESPONSE:\n",
      "[\n",
      "  {\n",
      "    \"reasoning\": \"As you have reached your current state there is not much more for you to do\",\n",
      "    \"task\": \"Bake a lemon pie\",\n",
      "    \"status\": \"progress\"\n",
      "  }\n",
      "]\n",
      "(here the status MUST be set to \"done\" because we have already reached our desired state)\n",
      "\n",
      "RESPONSE FORMAT:\n",
      "[\n",
      "  {\n",
      "    \"reasoning\": \"In light of the data I have provided above, offer a comprehensive\n",
      "       explanation for what my next task should be and why\",\n",
      "    \"task\": \"Specify the next single task that requires my attention. Only one task at a time.\"\n",
      "    \"state\": \"'done' if desired state achieved, otherwise 'progress'\"\n",
      "  }\n",
      "]\n",
      "\n",
      "Make sure that if the desired state has been reached then \"status\" should be set to \"done\".\n",
      "\n",
      "Generate 5 tasks as a json list object.<|im_end|>\n",
      "<|im_start|>user\n",
      "Current Situation: {'some_state': 10, 'some_other_state': 5}\n",
      "Desired Situation: {'some_state': 20, 'some_other_state': 50}\n",
      "Completed Tasks: ['Collect food dish images and metadata', 'Develop image recognition model', 'Implement user interface']<|im_end|>\n",
      "<|im_start|>assistant\n",
      "[\n",
      "  {\n",
      "    \"reasoning\": \"As you need to increase 'some_state' from 10 to 20, a suitable next task would be to gather 10 more data points related to 'some_state' in order to train your model better.\",\n",
      "    \"task\": \"Collect 10 more data points for 'some_state'\",\n",
      "    \"status\": \"progress\"\n",
      "  }\n",
      "]<|im_end|>\n",
      "\n",
      "\n"
     ]
    },
    {
     "data": {
      "text/plain": [
       "[{'reasoning': \"As you need to increase 'some_state' from 10 to 20, a suitable next task would be to gather 10 more data points related to 'some_state' in order to train your model better.\",\n",
       "  'task': \"Collect 10 more data points for 'some_state'\",\n",
       "  'status': 'progress'}]"
      ]
     },
     "execution_count": 6,
     "metadata": {},
     "output_type": "execute_result"
    }
   ],
   "source": [
    "scrum.gen_plan(count = 5)"
   ]
  },
  {
   "cell_type": "code",
   "execution_count": null,
   "metadata": {},
   "outputs": [],
   "source": []
  }
 ],
 "metadata": {
  "kernelspec": {
   "display_name": "openagent",
   "language": "python",
   "name": "python3"
  },
  "language_info": {
   "codemirror_mode": {
    "name": "ipython",
    "version": 3
   },
   "file_extension": ".py",
   "mimetype": "text/x-python",
   "name": "python",
   "nbconvert_exporter": "python",
   "pygments_lexer": "ipython3",
   "version": "3.11.3"
  },
  "orig_nbformat": 4
 },
 "nbformat": 4,
 "nbformat_minor": 2
}
