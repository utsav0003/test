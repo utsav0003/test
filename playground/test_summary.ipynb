{
 "cells": [
  {
   "cell_type": "code",
   "execution_count": 1,
   "metadata": {},
   "outputs": [],
   "source": [
    "# import sys\n",
    "# import os\n",
    "\n",
    "# openagent_dir = os.path.dirname(os.path.abspath(\"\"))\n",
    "# print(openagent_dir)\n",
    "# sys.path.append(openagent_dir)\n",
    "\n",
    "# import sys\n",
    "# sys.path.append(\"..\")"
   ]
  },
  {
   "cell_type": "code",
   "execution_count": 2,
   "metadata": {},
   "outputs": [
    {
     "name": "stderr",
     "output_type": "stream",
     "text": [
      "c:\\Users\\DELL\\anaconda3\\envs\\openagent\\Lib\\site-packages\\deeplake\\util\\check_latest_version.py:32: UserWarning: A newer version of deeplake (3.6.19) is available. It's recommended that you update to the latest version using `pip install -U deeplake`.\n",
      "  warnings.warn(\n"
     ]
    }
   ],
   "source": [
    "%run ../openagent/utils/summary.py"
   ]
  },
  {
   "cell_type": "code",
   "execution_count": 3,
   "metadata": {},
   "outputs": [
    {
     "data": {
      "text/plain": [
       "True"
      ]
     },
     "execution_count": 3,
     "metadata": {},
     "output_type": "execute_result"
    }
   ],
   "source": [
    "# from openagent.utils.summary import Summarizer\n",
    "\n",
    "# load .env file in format:\n",
    "# OPENAI_API_KEY=sk-xxx\n",
    "from dotenv import load_dotenv\n",
    "load_dotenv()"
   ]
  },
  {
   "cell_type": "code",
   "execution_count": 7,
   "metadata": {},
   "outputs": [],
   "source": [
    "summarizer = Summarizer()"
   ]
  },
  {
   "cell_type": "code",
   "execution_count": 5,
   "metadata": {},
   "outputs": [],
   "source": [
    "text = \"\"\"Title: The Meteoric Guardian\n",
    "\n",
    "INT. COSMIC STORM - XELTHOR - NIGHT\n",
    "\n",
    "(We find ourselves in the heart of a raging cosmic storm on the distant planet Xelthor. Lightning illuminates the skies, revealing a mysterious, glowing figure floating amidst the chaos. This is Zaraq, an otherworldly being about to be born.)\n",
    "\n",
    "NARRATOR (V.O.):\n",
    "In the depths of the universe, on the enigmatic planet Xelthor, a celestial event unfolds, heralding the birth of a being destined for greatness.\n",
    "\n",
    "(The cosmic storm intensifies, and a brilliant burst of energy erupts, engulfing Zaraq. A bright light envelops the entire planet, visible from space.)\n",
    "\n",
    "NARRATOR (V.O.):\n",
    "And thus, amidst the fury of cosmic forces, the extraordinary being known as Zaraq is born.\n",
    "\n",
    "EXT. XELTHORIAN LANDSCAPE - DAY\n",
    "\n",
    "(After the storm subsides, we see a peaceful, serene landscape. A couple, ALARA and VENAR, stumble upon a mysterious object. As they approach, they discover an infant lying there, cradled in the remnants of the cosmic storm.)\n",
    "\n",
    "ALARA:\n",
    "(Whispers, in awe)\n",
    "Venar, look! It's a child.\n",
    "\n",
    "VENAR:\n",
    "(Amazed)\n",
    "By the stars! What could have brought this celestial gift to us?\n",
    "\n",
    "(Alara and Venar take the baby in their arms, showering it with love.)\n",
    "\n",
    "INT. ALARA AND VENAR'S HOME - XELTHOR - YEARS LATER\n",
    "\n",
    "(We see a grown child, now known as ALEX, helping his adoptive parents with chores. There's an aura of mystery around Alex, as he performs tasks with incredible speed and accuracy.)\n",
    "\n",
    "ALARA:\n",
    "(Admiringly)\n",
    "You truly are a special child, Alex. You've always been so much more than we could ever comprehend.\n",
    "\n",
    "VENAR:\n",
    "(Concerned)\n",
    "We've done our best to keep your abilities hidden, but we fear that as you grow, it might become harder to keep them secret.\n",
    "\n",
    "ALEX:\n",
    "(Contemplative)\n",
    "I understand, Mother and Father. But I promise to control myself and use my gifts responsibly.\"\"\""
   ]
  },
  {
   "cell_type": "code",
   "execution_count": 8,
   "metadata": {},
   "outputs": [
    {
     "data": {
      "text/plain": [
       "'In a cosmic storm on planet Xelthor, a powerful being, Zaraq, is born. After the storm, a couple, Alara and Venar, find an infant, a remnant of the storm, and raise him as their own. Named Alex, he grows up with extraordinary abilities, promising to use them responsibly.'"
      ]
     },
     "execution_count": 8,
     "metadata": {},
     "output_type": "execute_result"
    }
   ],
   "source": [
    "summarizer.summarize(text, 50)"
   ]
  },
  {
   "cell_type": "code",
   "execution_count": null,
   "metadata": {},
   "outputs": [],
   "source": []
  }
 ],
 "metadata": {
  "kernelspec": {
   "display_name": "openagent",
   "language": "python",
   "name": "python3"
  },
  "language_info": {
   "codemirror_mode": {
    "name": "ipython",
    "version": 3
   },
   "file_extension": ".py",
   "mimetype": "text/x-python",
   "name": "python",
   "nbconvert_exporter": "python",
   "pygments_lexer": "ipython3",
   "version": "3.11.3"
  },
  "orig_nbformat": 4
 },
 "nbformat": 4,
 "nbformat_minor": 2
}
