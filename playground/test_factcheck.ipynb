{
 "cells": [
  {
   "cell_type": "code",
   "execution_count": 1,
   "metadata": {},
   "outputs": [],
   "source": [
    "import sys\n",
    "import os\n",
    "\n",
    "openagent_dir = os.path.dirname(os.path.abspath(\"\"))\n",
    "sys.path.append(openagent_dir)"
   ]
  },
  {
   "cell_type": "code",
   "execution_count": 2,
   "metadata": {},
   "outputs": [],
   "source": [
    "# sys.path"
   ]
  },
  {
   "cell_type": "code",
   "execution_count": 2,
   "metadata": {},
   "outputs": [
    {
     "name": "stderr",
     "output_type": "stream",
     "text": [
      "c:\\Users\\DELL\\anaconda3\\envs\\openagent\\Lib\\site-packages\\deeplake\\util\\check_latest_version.py:32: UserWarning: A newer version of deeplake (3.6.22) is available. It's recommended that you update to the latest version using `pip install -U deeplake`.\n",
      "  warnings.warn(\n"
     ]
    },
    {
     "ename": "RuntimeError",
     "evalue": "asyncio.run() cannot be called from a running event loop",
     "output_type": "error",
     "traceback": [
      "\u001b[1;31m---------------------------------------------------------------------------\u001b[0m",
      "\u001b[1;31mRuntimeError\u001b[0m                              Traceback (most recent call last)",
      "Cell \u001b[1;32mIn[2], line 17\u001b[0m\n\u001b[0;32m      8\u001b[0m factool_instance \u001b[39m=\u001b[39m Factool(\u001b[39m\"\u001b[39m\u001b[39mgpt-4\u001b[39m\u001b[39m\"\u001b[39m)\n\u001b[0;32m     10\u001b[0m inputs \u001b[39m=\u001b[39m [\n\u001b[0;32m     11\u001b[0m             {\n\u001b[0;32m     12\u001b[0m                 \u001b[39m\"\u001b[39m\u001b[39mprompt\u001b[39m\u001b[39m\"\u001b[39m: \u001b[39m\"\u001b[39m\u001b[39mIntroduce Graham Neubig\u001b[39m\u001b[39m\"\u001b[39m,\n\u001b[1;32m   (...)\u001b[0m\n\u001b[0;32m     15\u001b[0m             },\n\u001b[0;32m     16\u001b[0m ]\n\u001b[1;32m---> 17\u001b[0m response_list \u001b[39m=\u001b[39m factool_instance\u001b[39m.\u001b[39;49mrun(inputs)\n\u001b[0;32m     19\u001b[0m \u001b[39mprint\u001b[39m(response_list)\n",
      "File \u001b[1;32mc:\\Users\\DELL\\Documents\\Zenop\\dotagent\\openagent\\openagent\\fact_check\\factool.py:72\u001b[0m, in \u001b[0;36mFactool.run\u001b[1;34m(self, inputs)\u001b[0m\n\u001b[0;32m     70\u001b[0m \u001b[39melif\u001b[39;00m category \u001b[39m==\u001b[39m \u001b[39m'\u001b[39m\u001b[39mkbqa\u001b[39m\u001b[39m'\u001b[39m:\n\u001b[0;32m     71\u001b[0m     \u001b[39mif\u001b[39;00m search_type \u001b[39mis\u001b[39;00m \u001b[39mNone\u001b[39;00m \u001b[39mor\u001b[39;00m search_type \u001b[39m==\u001b[39m \u001b[39m\"\u001b[39m\u001b[39monline\u001b[39m\u001b[39m\"\u001b[39m:\n\u001b[1;32m---> 72\u001b[0m         batch_results \u001b[39m=\u001b[39m asyncio\u001b[39m.\u001b[39;49mrun(\n\u001b[0;32m     73\u001b[0m             \u001b[39mself\u001b[39;49m\u001b[39m.\u001b[39;49mpipelines[category\u001b[39m+\u001b[39;49m\u001b[39m\"\u001b[39;49m\u001b[39m_online\u001b[39;49m\u001b[39m\"\u001b[39;49m]\u001b[39m.\u001b[39;49mrun_with_tool_api_call(\n\u001b[0;32m     74\u001b[0m                 [sample[\u001b[39m'\u001b[39;49m\u001b[39mprompt\u001b[39;49m\u001b[39m'\u001b[39;49m] \u001b[39mfor\u001b[39;49;00m sample \u001b[39min\u001b[39;49;00m batch],\n\u001b[0;32m     75\u001b[0m                 [sample[\u001b[39m'\u001b[39;49m\u001b[39mresponse\u001b[39;49m\u001b[39m'\u001b[39;49m] \u001b[39mfor\u001b[39;49;00m sample \u001b[39min\u001b[39;49;00m batch],\n\u001b[0;32m     76\u001b[0m             )\n\u001b[0;32m     77\u001b[0m         )\n\u001b[0;32m     78\u001b[0m     \u001b[39melse\u001b[39;00m:\n\u001b[0;32m     79\u001b[0m         batch_results \u001b[39m=\u001b[39m asyncio\u001b[39m.\u001b[39mrun(\n\u001b[0;32m     80\u001b[0m             knowledge_qa_pipeline(\n\u001b[0;32m     81\u001b[0m                 \u001b[39mself\u001b[39m\u001b[39m.\u001b[39mfoundation_model,\u001b[39m2\u001b[39m,\u001b[39m\"\u001b[39m\u001b[39mlocal\u001b[39m\u001b[39m\"\u001b[39m,batch[\u001b[39m0\u001b[39m]\u001b[39m.\u001b[39mget(\u001b[39m\"\u001b[39m\u001b[39mdata_link\u001b[39m\u001b[39m\"\u001b[39m),batch[\u001b[39m0\u001b[39m]\u001b[39m.\u001b[39mget(\u001b[39m\"\u001b[39m\u001b[39membedding_link\u001b[39m\u001b[39m\"\u001b[39m)\n\u001b[1;32m   (...)\u001b[0m\n\u001b[0;32m     85\u001b[0m             )\n\u001b[0;32m     86\u001b[0m         )\n",
      "File \u001b[1;32mc:\\Users\\DELL\\anaconda3\\envs\\openagent\\Lib\\asyncio\\runners.py:186\u001b[0m, in \u001b[0;36mrun\u001b[1;34m(main, debug)\u001b[0m\n\u001b[0;32m    161\u001b[0m \u001b[39m\u001b[39m\u001b[39m\"\"\"Execute the coroutine and return the result.\u001b[39;00m\n\u001b[0;32m    162\u001b[0m \n\u001b[0;32m    163\u001b[0m \u001b[39mThis function runs the passed coroutine, taking care of\u001b[39;00m\n\u001b[1;32m   (...)\u001b[0m\n\u001b[0;32m    182\u001b[0m \u001b[39m    asyncio.run(main())\u001b[39;00m\n\u001b[0;32m    183\u001b[0m \u001b[39m\"\"\"\u001b[39;00m\n\u001b[0;32m    184\u001b[0m \u001b[39mif\u001b[39;00m events\u001b[39m.\u001b[39m_get_running_loop() \u001b[39mis\u001b[39;00m \u001b[39mnot\u001b[39;00m \u001b[39mNone\u001b[39;00m:\n\u001b[0;32m    185\u001b[0m     \u001b[39m# fail fast with short traceback\u001b[39;00m\n\u001b[1;32m--> 186\u001b[0m     \u001b[39mraise\u001b[39;00m \u001b[39mRuntimeError\u001b[39;00m(\n\u001b[0;32m    187\u001b[0m         \u001b[39m\"\u001b[39m\u001b[39masyncio.run() cannot be called from a running event loop\u001b[39m\u001b[39m\"\u001b[39m)\n\u001b[0;32m    189\u001b[0m \u001b[39mwith\u001b[39;00m Runner(debug\u001b[39m=\u001b[39mdebug) \u001b[39mas\u001b[39;00m runner:\n\u001b[0;32m    190\u001b[0m     \u001b[39mreturn\u001b[39;00m runner\u001b[39m.\u001b[39mrun(main)\n",
      "\u001b[1;31mRuntimeError\u001b[0m: asyncio.run() cannot be called from a running event loop"
     ]
    }
   ],
   "source": [
    "from openagent.llms._openai import OpenAI\n",
    "from openagent.fact_check.factool import Factool\n",
    "from dotenv import load_dotenv\n",
    "\n",
    "load_dotenv()\n",
    "\n",
    "# Initialize a Factool instance with the specified keys. foundation_model could be either \"gpt-3.5-turbo\" or \"gpt-4\"\n",
    "factool_instance = Factool(\"gpt-4\")\n",
    "\n",
    "inputs = [\n",
    "            {\n",
    "                \"prompt\": \"Introduce Graham Neubig\",\n",
    "                \"response\": \"Graham Neubig is a professor at MIT\",\n",
    "                \"category\": \"kbqa\"\n",
    "            },\n",
    "]\n",
    "response_list = factool_instance.run(inputs)\n",
    "\n",
    "print(response_list)"
   ]
  },
  {
   "cell_type": "code",
   "execution_count": null,
   "metadata": {},
   "outputs": [],
   "source": []
  }
 ],
 "metadata": {
  "kernelspec": {
   "display_name": "openagent",
   "language": "python",
   "name": "python3"
  },
  "language_info": {
   "codemirror_mode": {
    "name": "ipython",
    "version": 3
   },
   "file_extension": ".py",
   "mimetype": "text/x-python",
   "name": "python",
   "nbconvert_exporter": "python",
   "pygments_lexer": "ipython3",
   "version": "3.11.3"
  },
  "orig_nbformat": 4
 },
 "nbformat": 4,
 "nbformat_minor": 2
}
