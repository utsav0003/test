{
 "cells": [
  {
   "cell_type": "code",
   "execution_count": 6,
   "metadata": {},
   "outputs": [],
   "source": [
    "import sys\n",
    "sys.path.append(\"..\")\n",
    "\n",
    "import openagent\n",
    "from openagent.llms._openai import OpenAI as guidance_llm\n",
    "\n",
    "from dotenv import load_dotenv\n",
    "load_dotenv()\n",
    "\n",
    "llmcc = guidance_llm(\n",
    "    model=\"gpt-3.5-turbo\"\n",
    ")"
   ]
  },
  {
   "cell_type": "code",
   "execution_count": 7,
   "metadata": {},
   "outputs": [],
   "source": [
    "chat_template = '''\n",
    "                {{#user~}}\n",
    "                I want to translate the following English text into Python code:\n",
    "                QUERY: {{input}}\n",
    "                {{~/user}}\n",
    "\n",
    "                {{#assistant~}}\n",
    "                Sure, I can assist with that. If I need more information, I'll ask for clarification.\n",
    "                {{~/assistant}}\n",
    "\n",
    "                {{#user~}}\n",
    "                Yes, go ahead and write the complete code.\n",
    "                {{~/user}}\n",
    "\n",
    "                {{#assistant~}}\n",
    "                {{gen 'response' temperature=0 max_tokens=3900}}\n",
    "                {{~/assistant}}\n",
    "\n",
    "                {{#assistant~}}\n",
    "                If the context or the task is not clear, please provide additional information to clarify.\n",
    "                {{~/assistant}}'''"
   ]
  },
  {
   "cell_type": "code",
   "execution_count": 8,
   "metadata": {},
   "outputs": [],
   "source": [
    "from openagent.agent.chat import ChatAgent\n",
    "\n",
    "agent = ChatAgent(\n",
    "    llm=llmcc,\n",
    "    prompt_template=chat_template,\n",
    "    )"
   ]
  },
  {
   "cell_type": "code",
   "execution_count": 9,
   "metadata": {},
   "outputs": [],
   "source": [
    "gpt_prompt = \"\"\"calculate my age using python program. Give answer in year, months, and days. \n",
    "Use my date of birth as 04/04/1998.\"\"\"\n",
    "\n",
    "res = agent.run(input=gpt_prompt)"
   ]
  },
  {
   "cell_type": "code",
   "execution_count": 10,
   "metadata": {},
   "outputs": [
    {
     "name": "stdout",
     "output_type": "stream",
     "text": [
      "\n",
      "from datetime import date\n",
      "\n",
      "def calculate_age(birth_date):\n",
      "    today = date.today()\n",
      "    age = today.year - birth_date.year\n",
      "    if today.month < birth_date.month or (today.month == birth_date.month and today.day < birth_date.day):\n",
      "        age -= 1\n",
      "    months = (today.month - birth_date.month) % 12\n",
      "    days = (today.day - birth_date.day) % 30  # Assuming each month has 30 days\n",
      "\n",
      "    return age, months, days\n",
      "\n",
      "# Enter your date of birth in the format: year, month, day\n",
      "birth_date = date(1998, 4, 4)\n",
      "age_years, age_months, age_days = calculate_age(birth_date)\n",
      "\n",
      "print(\"Your age is:\", age_years, \"years,\", age_months, \"months, and\", age_days, \"days.\")\n",
      "\n"
     ]
    },
    {
     "data": {
      "text/plain": [
       "'Your age is: 25 years, 4 months, and 14 days.'"
      ]
     },
     "metadata": {},
     "output_type": "display_data"
    },
    {
     "name": "stderr",
     "output_type": "stream",
     "text": [
      "Exception in thread Thread-7 (wait_for_messages):\n",
      "Traceback (most recent call last):\n",
      "  File \"c:\\Users\\DELL\\anaconda3\\envs\\openagent\\Lib\\threading.py\", line 1038, in _bootstrap_inner\n",
      "    self.run()\n",
      "  File \"c:\\Users\\DELL\\anaconda3\\envs\\openagent\\Lib\\threading.py\", line 975, in run\n",
      "    self._target(*self._args, **self._kwargs)\n",
      "  File \"C:\\Users\\DELL\\Documents\\Zenop\\dotagent\\openagent\\playground\\agentbox01.py\", line 77, in wait_for_messages\n",
      "    msg = kc.get_iopub_msg()\n",
      "          ^^^^^^^^^^^^^^^^^^\n",
      "  File \"c:\\Users\\DELL\\anaconda3\\envs\\openagent\\Lib\\site-packages\\jupyter_core\\utils\\__init__.py\", line 166, in wrapped\n",
      "    return loop.run_until_complete(inner)\n",
      "           ^^^^^^^^^^^^^^^^^^^^^^^^^^^^^^\n",
      "  File \"c:\\Users\\DELL\\anaconda3\\envs\\openagent\\Lib\\site-packages\\nest_asyncio.py\", line 90, in run_until_complete\n",
      "    return f.result()\n",
      "           ^^^^^^^^^^\n",
      "  File \"c:\\Users\\DELL\\anaconda3\\envs\\openagent\\Lib\\asyncio\\futures.py\", line 203, in result\n",
      "    raise self._exception.with_traceback(self._exception_tb)\n",
      "  File \"c:\\Users\\DELL\\anaconda3\\envs\\openagent\\Lib\\asyncio\\tasks.py\", line 267, in __step\n",
      "    result = coro.send(None)\n",
      "             ^^^^^^^^^^^^^^^\n",
      "  File \"c:\\Users\\DELL\\anaconda3\\envs\\openagent\\Lib\\site-packages\\jupyter_client\\client.py\", line 143, in _async_get_iopub_msg\n",
      "    return await ensure_async(self.iopub_channel.get_msg(*args, **kwargs))\n",
      "                              ^^^^^^^^^^^^^^^^^^^^^^^^^^^^^^^^^^^^^^^^^^^\n",
      "  File \"c:\\Users\\DELL\\anaconda3\\envs\\openagent\\Lib\\site-packages\\jupyter_client\\channels.py\", line 228, in get_msg\n",
      "    ready = self.socket.poll(timeout)\n",
      "            ^^^^^^^^^^^^^^^^^^^^^^^^^\n",
      "  File \"c:\\Users\\DELL\\anaconda3\\envs\\openagent\\Lib\\site-packages\\zmq\\sugar\\socket.py\", line 1046, in poll\n",
      "    evts = dict(p.poll(timeout))\n",
      "                ^^^^^^^^^^^^^^^\n",
      "  File \"c:\\Users\\DELL\\anaconda3\\envs\\openagent\\Lib\\site-packages\\zmq\\sugar\\poll.py\", line 104, in poll\n",
      "    return zmq_poll(self.sockets, timeout=timeout)\n",
      "           ^^^^^^^^^^^^^^^^^^^^^^^^^^^^^^^^^^^^^^^\n",
      "  File \"zmq/backend/cython/_poll.pyx\", line 141, in zmq.backend.cython._poll.zmq_poll\n",
      "  File \"zmq/backend/cython/_poll.pyx\", line 121, in zmq.backend.cython._poll.zmq_poll\n",
      "  File \"zmq/backend/cython/checkrc.pxd\", line 28, in zmq.backend.cython.checkrc._check_rc\n",
      "    raise ZMQError(errno)\n",
      "zmq.error.ZMQError: not a socket\n"
     ]
    },
    {
     "name": "stdout",
     "output_type": "stream",
     "text": [
      "Code execution completed\n"
     ]
    }
   ],
   "source": [
    "import base64\n",
    "\n",
    "encoded_res = base64.b64encode(res.encode()).decode()\n",
    "\n",
    "%run agentbox01.py --response '''{encoded_res}'''"
   ]
  },
  {
   "cell_type": "code",
   "execution_count": null,
   "metadata": {},
   "outputs": [],
   "source": []
  },
  {
   "cell_type": "code",
   "execution_count": null,
   "metadata": {},
   "outputs": [],
   "source": []
  },
  {
   "cell_type": "code",
   "execution_count": null,
   "metadata": {},
   "outputs": [],
   "source": []
  },
  {
   "cell_type": "code",
   "execution_count": 9,
   "metadata": {},
   "outputs": [
    {
     "name": "stdout",
     "output_type": "stream",
     "text": [
      "\n",
      "from datetime import date\n",
      "\n",
      "def calculate_age(birth_date):\n",
      "    today = date.today()\n",
      "    age = today.year - birth_date.year\n",
      "    if today.month < birth_date.month or (today.month == birth_date.month and today.day < birth_date.day):\n",
      "        age -= 1\n",
      "    months = (today.month - birth_date.month) % 12\n",
      "    days = (today.day - birth_date.day) % 30  # Assuming each month has 30 days\n",
      "\n",
      "    return age, months, days\n",
      "\n",
      "# Enter your date of birth in the format: dd/mm/yyyy\n",
      "birth_date = date(1998, 4, 4)\n",
      "age_years, age_months, age_days = calculate_age(birth_date)\n",
      "\n",
      "print(\"Your age is: {} years, {} months, and {} days.\".format(age_years, age_months, age_days))\n",
      "\n"
     ]
    },
    {
     "data": {
      "text/plain": [
       "'Your age is: 25 years, 4 months, and 14 days.'"
      ]
     },
     "metadata": {},
     "output_type": "display_data"
    },
    {
     "name": "stdout",
     "output_type": "stream",
     "text": [
      "Code execution completed\n"
     ]
    }
   ],
   "source": [
    "%run agentbox.py --gpt_prompt \"calculate my age using python program. Give answer in year, months, and days. Use my date of birth as 04/04/1998.\""
   ]
  },
  {
   "cell_type": "code",
   "execution_count": null,
   "metadata": {},
   "outputs": [],
   "source": []
  }
 ],
 "metadata": {
  "kernelspec": {
   "display_name": "Python 3",
   "language": "python",
   "name": "python3"
  },
  "language_info": {
   "codemirror_mode": {
    "name": "ipython",
    "version": 3
   },
   "file_extension": ".py",
   "mimetype": "text/x-python",
   "name": "python",
   "nbconvert_exporter": "python",
   "pygments_lexer": "ipython3",
   "version": "3.11.3"
  },
  "orig_nbformat": 4
 },
 "nbformat": 4,
 "nbformat_minor": 2
}
