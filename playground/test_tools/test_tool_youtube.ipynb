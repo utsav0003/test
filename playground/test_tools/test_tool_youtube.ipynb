{
 "cells": [
  {
   "cell_type": "code",
   "execution_count": 1,
   "metadata": {},
   "outputs": [],
   "source": [
    "import sys\n",
    "import os\n",
    "from dotenv import load_dotenv\n",
    "\n",
    "load_dotenv()\n",
    "\n",
    "script_dir = os.path.dirname(os.path.abspath(\"\"))\n",
    "openagent_dir = os.path.dirname(script_dir)\n",
    "sys.path.append(openagent_dir)"
   ]
  },
  {
   "cell_type": "code",
   "execution_count": 2,
   "metadata": {},
   "outputs": [
    {
     "name": "stderr",
     "output_type": "stream",
     "text": [
      "c:\\Users\\DELL\\anaconda3\\envs\\openagent\\Lib\\site-packages\\deeplake\\util\\check_latest_version.py:32: UserWarning: A newer version of deeplake (3.6.19) is available. It's recommended that you update to the latest version using `pip install -U deeplake`.\n",
      "  warnings.warn(\n"
     ]
    }
   ],
   "source": [
    "from openagent import compiler\n",
    "from openagent.llms._openai import OpenAI\n",
    "from openagent.helpers.youtubeSearch import YouTubeSearchTool\n",
    "from openagent.helpers.youtubeTranscript import YoutubeTranscriptReader\n",
    "\n",
    "import json\n",
    "\n",
    "tools = [YouTubeSearchTool(), YoutubeTranscriptReader()]"
   ]
  },
  {
   "cell_type": "code",
   "execution_count": 3,
   "metadata": {},
   "outputs": [],
   "source": [
    "llm = OpenAI(model=\"gpt-3.5-turbo-16k\")"
   ]
  },
  {
   "cell_type": "code",
   "execution_count": 11,
   "metadata": {},
   "outputs": [],
   "source": [
    "temp = '''\n",
    "{{#system~}}\n",
    "You are a web assistant who has access to youtube based tool\n",
    "you have access to the following tools:-\n",
    "{{tool}}\n",
    "{{~#each tool}}\n",
    "{{this}}\n",
    "{{/each}}\n",
    "{{~/system}}\n",
    "\n",
    "{{#user~}}\n",
    "answer this question - {{query}} by following this steps\n",
    "first think whether you need to use the tool or not. answer this in one word either <<Yes>> or <<No>>.\n",
    "{{~/user}}\n",
    "\n",
    "{{#assistant~}}\n",
    "{{gen 'tool_use'}}\n",
    "{{~/assistant}}\n",
    "\n",
    "{{#user~}}\n",
    "If the answer is Yes then call the tool using the following format '{\"index\":[index of the tool to be used in the tools list], \"query\":[query to be passed]'\n",
    "If the answer is No, answer to the {{query}} itself.\n",
    "{{~/user}}\n",
    "\n",
    "{{#assistant~}}\n",
    "{{gen 'action' temperature=0 max_tokens=500}}\n",
    "{{#if (tool_use)==\"Yes\"}}\n",
    "Tool Response: {{(tool_func action)}}\n",
    "{{/if}}\n",
    "\n",
    "Formatting the response into full answer\n",
    "{{~/assistant}}\n",
    "\n",
    "{{#assistant~}}\n",
    "{{gen 'response'}}\n",
    "{{~/assistant}}\n",
    "\n",
    "'''"
   ]
  },
  {
   "cell_type": "code",
   "execution_count": 15,
   "metadata": {},
   "outputs": [
    {
     "data": {
      "text/plain": [
       "'Here are some video links for Amitabh Bachchan:\\n\\n1. [Amitabh Bachchan - The Ultimate Superstar](https://www.youtube.com/watch?v=yRkqXDiOl1I&pp=ygUQQW1pdGFiaCBCYWNoY2hhbg%3D%3D)\\n2. [Amitabh Bachchan - The Living Legend](https://www.youtube.com/watch?v=vB2m1uRF30c&pp=ygUQQW1pdGFiaCBCYWNoY2hhbg%3D%3D)'"
      ]
     },
     "execution_count": 15,
     "metadata": {},
     "output_type": "execute_result"
    }
   ],
   "source": [
    "def tool_use(var:dict, tools=tools):\n",
    "    var = json.loads(var)\n",
    "    # print(tools[int(var['index'])])\n",
    "    return tools[int(var['index'])].run(var['query'])\n",
    "\n",
    "prompt = compiler(template=temp, llm=llm,  tool=tools, tool_func = tool_use, stream=False, silent=True)\n",
    "\n",
    "response = prompt(query='give video links for Amitabh Bachan')\n",
    "\n",
    "response['response']"
   ]
  },
  {
   "cell_type": "code",
   "execution_count": 7,
   "metadata": {},
   "outputs": [
    {
     "data": {
      "text/plain": [
       "\"['/watch?v=UTHLKHL_whs&pp=ygUJTGlsIE5hcyBY', '/watch?v=r7qovpFAGrQ&pp=ygUJTGlsIE5hcyBY']\""
      ]
     },
     "execution_count": 7,
     "metadata": {},
     "output_type": "execute_result"
    }
   ],
   "source": [
    "tool = YouTubeSearchTool()\n",
    "\n",
    "tool.run(\"Lil Nas X\")"
   ]
  },
  {
   "cell_type": "code",
   "execution_count": null,
   "metadata": {},
   "outputs": [],
   "source": []
  }
 ],
 "metadata": {
  "kernelspec": {
   "display_name": "env",
   "language": "python",
   "name": "python3"
  },
  "language_info": {
   "codemirror_mode": {
    "name": "ipython",
    "version": 3
   },
   "file_extension": ".py",
   "mimetype": "text/x-python",
   "name": "python",
   "nbconvert_exporter": "python",
   "pygments_lexer": "ipython3",
   "version": "3.11.3"
  },
  "orig_nbformat": 4
 },
 "nbformat": 4,
 "nbformat_minor": 2
}
